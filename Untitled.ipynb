{
 "cells": [
  {
   "cell_type": "code",
   "execution_count": 4,
   "metadata": {},
   "outputs": [
    {
     "name": "stdout",
     "output_type": "stream",
     "text": [
      "--2020-03-09 17:31:33--  https://data.cityofnewyork.us/data.json\n",
      "Resolving data.cityofnewyork.us (data.cityofnewyork.us)... 52.206.140.199, 52.206.68.26, 52.206.140.205\n",
      "Connecting to data.cityofnewyork.us (data.cityofnewyork.us)|52.206.140.199|:443... connected.\n",
      "HTTP request sent, awaiting response... 200 OK\n",
      "Length: unspecified [application/json]\n",
      "Saving to: ‘data.json.1’\n",
      "\n",
      "data.json.1             [     <=>            ]   4.53M  5.27MB/s    in 0.9s    \n",
      "\n",
      "2020-03-09 17:31:38 (5.27 MB/s) - ‘data.json.1’ saved [4751620]\n",
      "\n"
     ]
    }
   ],
   "source": [
    "import json\n",
    "import pandas as pd\n",
    "# reading the JSON data using json.load()\n",
    "!wget https://data.cityofnewyork.us/data.json\n",
    "file = 'data.json'\n",
    "with open(file) as train_file:\n",
    "    dict_train = json.load(train_file)\n",
    "\n",
    "# converting json dataset from dictionary to dataframe\n",
    "train = pd.DataFrame.from_dict(dict_train, orient='index')\n",
    "train.reset_index(level=0, inplace=True)"
   ]
  },
  {
   "cell_type": "code",
   "execution_count": 7,
   "metadata": {},
   "outputs": [
    {
     "data": {
      "text/html": [
       "<div>\n",
       "<style scoped>\n",
       "    .dataframe tbody tr th:only-of-type {\n",
       "        vertical-align: middle;\n",
       "    }\n",
       "\n",
       "    .dataframe tbody tr th {\n",
       "        vertical-align: top;\n",
       "    }\n",
       "\n",
       "    .dataframe thead th {\n",
       "        text-align: right;\n",
       "    }\n",
       "</style>\n",
       "<table border=\"1\" class=\"dataframe\">\n",
       "  <thead>\n",
       "    <tr style=\"text-align: right;\">\n",
       "      <th></th>\n",
       "      <th>index</th>\n",
       "      <th>0</th>\n",
       "    </tr>\n",
       "  </thead>\n",
       "  <tbody>\n",
       "    <tr>\n",
       "      <th>0</th>\n",
       "      <td>@context</td>\n",
       "      <td>https://project-open-data.cio.gov/v1.1/schema/...</td>\n",
       "    </tr>\n",
       "    <tr>\n",
       "      <th>1</th>\n",
       "      <td>@id</td>\n",
       "      <td>https://data.cityofnewyork.us/data.json</td>\n",
       "    </tr>\n",
       "    <tr>\n",
       "      <th>2</th>\n",
       "      <td>@type</td>\n",
       "      <td>dcat:Catalog</td>\n",
       "    </tr>\n",
       "    <tr>\n",
       "      <th>3</th>\n",
       "      <td>conformsTo</td>\n",
       "      <td>https://project-open-data.cio.gov/v1.1/schema</td>\n",
       "    </tr>\n",
       "    <tr>\n",
       "      <th>4</th>\n",
       "      <td>describedBy</td>\n",
       "      <td>https://project-open-data.cio.gov/v1.1/schema/...</td>\n",
       "    </tr>\n",
       "    <tr>\n",
       "      <th>5</th>\n",
       "      <td>dataset</td>\n",
       "      <td>[{'accessLevel': 'public', 'landingPage': 'htt...</td>\n",
       "    </tr>\n",
       "  </tbody>\n",
       "</table>\n",
       "</div>"
      ],
      "text/plain": [
       "         index                                                  0\n",
       "0     @context  https://project-open-data.cio.gov/v1.1/schema/...\n",
       "1          @id            https://data.cityofnewyork.us/data.json\n",
       "2        @type                                       dcat:Catalog\n",
       "3   conformsTo      https://project-open-data.cio.gov/v1.1/schema\n",
       "4  describedBy  https://project-open-data.cio.gov/v1.1/schema/...\n",
       "5      dataset  [{'accessLevel': 'public', 'landingPage': 'htt..."
      ]
     },
     "execution_count": 7,
     "metadata": {},
     "output_type": "execute_result"
    }
   ],
   "source": [
    "train.head(20)"
   ]
  },
  {
   "cell_type": "code",
   "execution_count": null,
   "metadata": {},
   "outputs": [],
   "source": []
  },
  {
   "cell_type": "code",
   "execution_count": null,
   "metadata": {},
   "outputs": [],
   "source": []
  },
  {
   "cell_type": "code",
   "execution_count": null,
   "metadata": {},
   "outputs": [],
   "source": []
  }
 ],
 "metadata": {
  "kernelspec": {
   "display_name": "Python 3",
   "language": "python",
   "name": "python3"
  },
  "language_info": {
   "codemirror_mode": {
    "name": "ipython",
    "version": 3
   },
   "file_extension": ".py",
   "mimetype": "text/x-python",
   "name": "python",
   "nbconvert_exporter": "python",
   "pygments_lexer": "ipython3",
   "version": "3.7.3"
  }
 },
 "nbformat": 4,
 "nbformat_minor": 2
}
